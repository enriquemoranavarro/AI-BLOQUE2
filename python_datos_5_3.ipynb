{
  "nbformat": 4,
  "nbformat_minor": 0,
  "metadata": {
    "colab": {
      "provenance": []
    },
    "kernelspec": {
      "name": "python3",
      "display_name": "Python 3"
    },
    "language_info": {
      "name": "python"
    }
  },
  "cells": [
    {
      "cell_type": "code",
      "execution_count": 2,
      "metadata": {
        "colab": {
          "base_uri": "https://localhost:8080/"
        },
        "id": "8At6bojEtfnU",
        "outputId": "0db8913b-c129-40cb-c488-16d8adc07659"
      },
      "outputs": [
        {
          "output_type": "execute_result",
          "data": {
            "text/plain": [
              "(5.790526315789471, 1.7606165413533834)"
            ]
          },
          "metadata": {},
          "execution_count": 2
        }
      ],
      "source": [
        "import numpy as np\n",
        "\n",
        "X = np.array([1, 2, 3, 4, 5, 6, 7, 8, 9, 10, 11, 12, 13, 14, 15, 16, 17, 18, 19, 20])\n",
        "Y = np.array([10.06, 6.6, 10.91, 17.96, 18.47, 9.09, 18.8, 16.39, 18.59, 22.64,\n",
        "              23.58, 30.82, 30.04, 29.49, 32.78, 34.33, 40.98, 36.18, 40.25, 37.58])\n",
        "\n",
        "mean_X = np.mean(X)\n",
        "mean_Y = np.mean(Y)\n",
        "\n",
        "numerator = np.sum((X - mean_X) * (Y - mean_Y))\n",
        "denominator = np.sum((X - mean_X)**2)\n",
        "theta_1 = numerator / denominator\n",
        "\n",
        "theta_0 = mean_Y - theta_1 * mean_X\n",
        "\n",
        "theta_0, theta_1"
      ]
    }
  ]
}